{
 "cells": [
  {
   "cell_type": "code",
   "execution_count": 1,
   "id": "48ee2b76",
   "metadata": {
    "ExecuteTime": {
     "end_time": "2024-05-27T12:36:56.000073Z",
     "start_time": "2024-05-27T12:36:52.955787Z"
    }
   },
   "outputs": [],
   "source": [
    "import rospy\n",
    "import actionlib\n",
    "from assignment_2_2023.msg import PlanningAction, PlanningGoal, PlanningFeedback, PlanningResult\n",
    "from assignment_2_2023.msg import CustomMessage\n",
    "from nav_msgs.msg import Odometry\n",
    "from jupyros import ros3d\n",
    "import ipywidgets as widgets\n",
    "from IPython.display import display\n"
   ]
  },
  {
   "cell_type": "code",
   "execution_count": 2,
   "id": "bec3fcde",
   "metadata": {
    "ExecuteTime": {
     "end_time": "2024-05-27T12:36:56.709287Z",
     "start_time": "2024-05-27T12:36:56.416602Z"
    }
   },
   "outputs": [],
   "source": [
    "rospy.init_node('action_client_node', anonymous=True)"
   ]
  },
  {
   "cell_type": "code",
   "execution_count": 3,
   "id": "6e9ec2e3",
   "metadata": {
    "ExecuteTime": {
     "end_time": "2024-05-27T12:36:57.185542Z",
     "start_time": "2024-05-27T12:36:57.013688Z"
    }
   },
   "outputs": [],
   "source": [
    "client = actionlib.SimpleActionClient('/reaching_goal', PlanningAction)\n",
    "\n",
    "client.wait_for_server()\n",
    "\n",
    "custom_pub = rospy.Publisher('/custom_topic', CustomMessage, queue_size=10)"
   ]
  },
  {
   "cell_type": "code",
   "execution_count": 4,
   "id": "d7445676",
   "metadata": {
    "ExecuteTime": {
     "end_time": "2024-05-27T12:36:57.500337Z",
     "start_time": "2024-05-27T12:36:57.484593Z"
    }
   },
   "outputs": [],
   "source": [
    "def feedback_callback(feedback):\n",
    "    rospy.loginfo(\"Current pose: {}\".format(feedback.actual_pose))\n",
    "    feedback_output.append_stdout(\"Current pose: {}\\n\".format(feedback.actual_pose))\n",
    "\n",
    "def odom_callback(odom_msg):\n",
    "    x = odom_msg.pose.pose.position.x\n",
    "    y = odom_msg.pose.pose.position.y\n",
    "    vel_x = odom_msg.twist.twist.linear.x\n",
    "    vel_z = odom_msg.twist.twist.angular.z\n",
    "\n",
    "    custom_msg = CustomMessage()\n",
    "    custom_msg.x = x\n",
    "    custom_msg.y = y\n",
    "    custom_msg.vel_x = vel_x\n",
    "    custom_msg.vel_z = vel_z\n",
    "\n",
    "    custom_pub.publish(custom_msg)\n"
   ]
  },
  {
   "cell_type": "code",
   "execution_count": 5,
   "id": "3cc498ee",
   "metadata": {
    "ExecuteTime": {
     "end_time": "2024-05-27T12:36:58.119397Z",
     "start_time": "2024-05-27T12:36:57.873541Z"
    }
   },
   "outputs": [],
   "source": [
    "x_widget = widgets.FloatText(description='Target X:')\n",
    "y_widget = widgets.FloatText(description='Target Y:')\n",
    "send_button = widgets.Button(description='Set Goal')\n",
    "cancel_button = widgets.Button(description='Cancel Goal')\n",
    "feedback_output = widgets.Output()\n",
    "\n",
    "def set_goal(x, y):\n",
    "    goal = PlanningGoal()\n",
    "    goal.target_pose.pose.position.x = x\n",
    "    goal.target_pose.pose.position.y = y\n",
    "    client.send_goal(goal, done_cb=goal_done_callback)\n",
    "    with feedback_output:\n",
    "        print(\"Goal sent with coordinates (x={}, y={}).\\n\".format(x, y))\n",
    "\n",
    "#a function to handle the goal completion\n",
    "def goal_done_callback(status, result):\n",
    "    \n",
    "    if status == actionlib.GoalStatus.SUCCEEDED:\n",
    "        with feedback_output:\n",
    "            print(\"Goal succeeded.\\n\")\n",
    "        \n",
    "    elif status == actionlib.GoalStatus.PREEMPTED:\n",
    "        with feedback_output:\n",
    "            print(\"Goal preempted.\\n\")\n",
    "        \n",
    "    else:\n",
    "        with feedback_output:\n",
    "            print(\"Goal failed.\\n\")\n",
    "\n",
    "def on_send_button_clicked(b):\n",
    "    set_goal(x_widget.value, y_widget.value)\n",
    "\n",
    "def on_cancel_button_clicked(b):\n",
    "    client.cancel_goal()\n",
    "    with feedback_output:\n",
    "            print(\"Goal canceled.\\n\")\n",
    "\n",
    "send_button.on_click(on_send_button_clicked)\n",
    "cancel_button.on_click(on_cancel_button_clicked)\n"
   ]
  },
  {
   "cell_type": "code",
   "execution_count": 6,
   "id": "fbf48794",
   "metadata": {
    "ExecuteTime": {
     "end_time": "2024-05-27T12:36:58.685608Z",
     "start_time": "2024-05-27T12:36:58.640448Z"
    },
    "scrolled": true
   },
   "outputs": [
    {
     "data": {
      "application/vnd.jupyter.widget-view+json": {
       "model_id": "2e26ccef31c746ceabb6a573951bc6fc",
       "version_major": 2,
       "version_minor": 0
      },
      "text/plain": [
       "FloatText(value=0.0, description='Target X:')"
      ]
     },
     "metadata": {},
     "output_type": "display_data"
    },
    {
     "data": {
      "application/vnd.jupyter.widget-view+json": {
       "model_id": "39420703f40943eb9d7646477cb611a0",
       "version_major": 2,
       "version_minor": 0
      },
      "text/plain": [
       "FloatText(value=0.0, description='Target Y:')"
      ]
     },
     "metadata": {},
     "output_type": "display_data"
    },
    {
     "data": {
      "application/vnd.jupyter.widget-view+json": {
       "model_id": "7c1892976cdb450d8b61809f42337d7b",
       "version_major": 2,
       "version_minor": 0
      },
      "text/plain": [
       "Button(description='Set Goal', style=ButtonStyle())"
      ]
     },
     "metadata": {},
     "output_type": "display_data"
    },
    {
     "data": {
      "application/vnd.jupyter.widget-view+json": {
       "model_id": "bf4cc6306b6f46b7a5fcc21822121bea",
       "version_major": 2,
       "version_minor": 0
      },
      "text/plain": [
       "Button(description='Cancel Goal', style=ButtonStyle())"
      ]
     },
     "metadata": {},
     "output_type": "display_data"
    },
    {
     "data": {
      "application/vnd.jupyter.widget-view+json": {
       "model_id": "075c7bd3fc634ea8ad86e9197022c39e",
       "version_major": 2,
       "version_minor": 0
      },
      "text/plain": [
       "Output()"
      ]
     },
     "metadata": {},
     "output_type": "display_data"
    }
   ],
   "source": [
    "display(x_widget, y_widget, send_button, cancel_button, feedback_output)\n"
   ]
  },
  {
   "cell_type": "code",
   "execution_count": null,
   "id": "edd21c73",
   "metadata": {},
   "outputs": [],
   "source": [
    "# Subscribe to the Odometry topic\n",
    "rospy.Subscriber('/odom', Odometry, odom_callback)\n",
    "\n",
    "# Create a live plot\n",
    "plot = live_plot.LivePlot()\n",
    "\n",
    "# Add labels to the plot\n",
    "plot.xlabel('X Position')\n",
    "plot.ylabel('Y Position')\n",
    "plot.title('Robot Position')\n",
    "\n",
    "# Show the live plot\n",
    "plot.show()"
   ]
  }
 ],
 "metadata": {
  "hide_input": false,
  "kernelspec": {
   "display_name": "Python 3 (ipykernel)",
   "language": "python",
   "name": "python3"
  },
  "language_info": {
   "codemirror_mode": {
    "name": "ipython",
    "version": 3
   },
   "file_extension": ".py",
   "mimetype": "text/x-python",
   "name": "python",
   "nbconvert_exporter": "python",
   "pygments_lexer": "ipython3",
   "version": "3.8.5"
  },
  "toc": {
   "base_numbering": 1,
   "nav_menu": {},
   "number_sections": true,
   "sideBar": true,
   "skip_h1_title": false,
   "title_cell": "Table of Contents",
   "title_sidebar": "Contents",
   "toc_cell": false,
   "toc_position": {},
   "toc_section_display": true,
   "toc_window_display": false
  },
  "varInspector": {
   "cols": {
    "lenName": 16,
    "lenType": 16,
    "lenVar": 40
   },
   "kernels_config": {
    "python": {
     "delete_cmd_postfix": "",
     "delete_cmd_prefix": "del ",
     "library": "var_list.py",
     "varRefreshCmd": "print(var_dic_list())"
    },
    "r": {
     "delete_cmd_postfix": ") ",
     "delete_cmd_prefix": "rm(",
     "library": "var_list.r",
     "varRefreshCmd": "cat(var_dic_list()) "
    }
   },
   "types_to_exclude": [
    "module",
    "function",
    "builtin_function_or_method",
    "instance",
    "_Feature"
   ],
   "window_display": false
  }
 },
 "nbformat": 4,
 "nbformat_minor": 5
}
